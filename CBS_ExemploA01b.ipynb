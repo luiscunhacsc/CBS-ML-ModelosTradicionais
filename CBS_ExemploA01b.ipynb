{
  "nbformat": 4,
  "nbformat_minor": 0,
  "metadata": {
    "colab": {
      "provenance": [],
      "include_colab_link": true
    },
    "kernelspec": {
      "name": "python3",
      "display_name": "Python 3"
    },
    "language_info": {
      "name": "python"
    }
  },
  "cells": [
    {
      "cell_type": "markdown",
      "metadata": {
        "id": "view-in-github",
        "colab_type": "text"
      },
      "source": [
        "<a href=\"https://colab.research.google.com/github/luiscunhacsc/CBS-ML-ModelosTradicionais/blob/main/CBS_ExemploA01b.ipynb\" target=\"_parent\"><img src=\"https://colab.research.google.com/assets/colab-badge.svg\" alt=\"Open In Colab\"/></a>"
      ]
    },
    {
      "cell_type": "code",
      "source": [
        "# %% [markdown]\n",
        "# 🎛️ Regressão Linear \"à Mão\" — Mexe na inclinação e no intercepto e observa o erro\n",
        "\n",
        "# %% [code]\n",
        "import numpy as np\n",
        "import matplotlib.pyplot as plt\n",
        "from ipywidgets import interact, FloatSlider, Checkbox, Dropdown\n",
        "from sklearn.linear_model import LinearRegression\n",
        "from sklearn.metrics import mean_absolute_error, mean_squared_error, r2_score\n",
        "\n",
        "# --- Dados base (mesmos do exemplo 1) ---\n",
        "X = np.array([50, 60, 70, 80, 100, 120, 150]).reshape(-1, 1)  # Área (m²)\n",
        "y = np.array([100, 115, 130, 150, 180, 210, 260])             # Preço (mil €)\n",
        "\n",
        "# --- Melhor linha (para comparação) ---\n",
        "best = LinearRegression().fit(X, y)\n",
        "a_best = float(best.coef_[0])\n",
        "b_best = float(best.intercept_)\n",
        "y_best = best.predict(X)\n",
        "\n",
        "# Intervalos razoáveis para sliders (ajusta se quiseres)\n",
        "a_min, a_max = a_best - 5, a_best + 5\n",
        "b_min, b_max = b_best - 50, b_best + 50\n",
        "\n",
        "def app(a=a_best, b=b_best, mostrar_melhor=True, erro=\"RMSE\"):\n",
        "    # 1) Linha definida pelo utilizador\n",
        "    y_hat = a * X.flatten() + b\n",
        "\n",
        "    # 2) Métricas para a linha do utilizador\n",
        "    mae  = mean_absolute_error(y, y_hat)\n",
        "    mse  = mean_squared_error(y, y_hat)\n",
        "    rmse = np.sqrt(mse)\n",
        "    r2   = r2_score(y, y_hat)\n",
        "\n",
        "    # 3) Gráfico\n",
        "    plt.figure(figsize=(8,5))\n",
        "\n",
        "    # Dados reais\n",
        "    plt.scatter(X, y, label=\"Dados (casas)\", alpha=0.9)\n",
        "\n",
        "    # Linha do utilizador\n",
        "    x_grid = np.linspace(X.min()-5, X.max()+5, 200)\n",
        "    y_grid = a * x_grid + b\n",
        "    plt.plot(x_grid, y_grid, label=f\"Linha manual (a={a:.2f}, b={b:.2f})\", linewidth=2)\n",
        "\n",
        "    # Linha ótima (opcional)\n",
        "    if mostrar_melhor:\n",
        "        y_grid_best = a_best * x_grid + b_best\n",
        "        plt.plot(x_grid, y_grid_best, linestyle=\"--\", label=f\"Melhor linha (a*={a_best:.2f}, b*={b_best:.2f})\")\n",
        "\n",
        "    # Resíduos (linhas pontilhadas do ponto até à linha manual)\n",
        "    for xi, yi, yhi in zip(X.flatten(), y, y_hat):\n",
        "        plt.plot([xi, xi], [yi, yhi], linestyle=\"dashed\", alpha=0.25)\n",
        "\n",
        "    plt.xlabel(\"Área (m²)\")\n",
        "    plt.ylabel(\"Preço (mil €)\")\n",
        "    plt.title(\"Regressão Linear — Ajuste Manual vs Melhor Ajuste\")\n",
        "    plt.grid(True)\n",
        "    plt.legend(loc=\"upper left\")\n",
        "\n",
        "    # 4) Caixa de texto com métricas\n",
        "    if erro == \"MAE\":\n",
        "        foco = f\"MAE={mae:.2f}\"\n",
        "    elif erro == \"MSE\":\n",
        "        foco = f\"MSE={mse:.2f}\"\n",
        "    else:\n",
        "        foco = f\"RMSE={rmse:.2f}\"\n",
        "    txt = (f\"Linha manual: {foco} | R²={r2:.3f}\\n\"\n",
        "           f\"Equação: preço ≈ {a:.2f} × área + {b:.2f}\")\n",
        "    if mostrar_melhor:\n",
        "        mae_b  = mean_absolute_error(y, y_best)\n",
        "        mse_b  = mean_squared_error(y, y_best)\n",
        "        rmse_b = np.sqrt(mse_b)\n",
        "        r2_b   = r2_score(y, y_best)\n",
        "        txt += (f\"\\nMelhor linha: RMSE={rmse_b:.2f} | MAE={mae_b:.2f} | R²={r2_b:.3f}\\n\"\n",
        "                f\"Equação*: preço ≈ {a_best:.2f} × área + {b_best:.2f}\")\n",
        "    plt.gcf().text(0.02, -0.14, txt, ha=\"left\", va=\"top\")\n",
        "    plt.show()\n",
        "\n",
        "# Controlo interativo\n",
        "interact(\n",
        "    app,\n",
        "    a=FloatSlider(value=a_best, min=a_min, max=a_max, step=0.1, description=\"Inclinação (a)\"),\n",
        "    b=FloatSlider(value=b_best, min=b_min, max=b_max, step=1.0, description=\"Intercepto (b)\"),\n",
        "    mostrar_melhor=Checkbox(value=True, description=\"Mostrar melhor linha?\"),\n",
        "    erro=Dropdown(options=[\"RMSE\",\"MAE\",\"MSE\"], value=\"RMSE\", description=\"Erro em foco\"),\n",
        ")\n"
      ],
      "metadata": {
        "id": "xpPraYr2yOqA"
      },
      "execution_count": null,
      "outputs": []
    },
    {
      "cell_type": "code",
      "source": [
        "# just to clean metadata"
      ],
      "metadata": {
        "id": "d2Tjmk4vsebA"
      },
      "execution_count": null,
      "outputs": []
    }
  ]
}